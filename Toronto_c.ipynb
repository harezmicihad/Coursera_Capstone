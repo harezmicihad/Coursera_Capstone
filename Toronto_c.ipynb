{
  "nbformat": 4,
  "nbformat_minor": 0,
  "metadata": {
    "kernelspec": {
      "name": "python3",
      "display_name": "Python 3"
    },
    "language_info": {
      "codemirror_mode": {
        "name": "ipython",
        "version": 3
      },
      "file_extension": ".py",
      "mimetype": "text/x-python",
      "name": "python",
      "nbconvert_exporter": "python",
      "pygments_lexer": "ipython3",
      "version": "3.6.6"
    },
    "colab": {
      "name": "Toronto_c.ipynb",
      "provenance": [],
      "collapsed_sections": []
    },
    "accelerator": "TPU"
  },
  "cells": [
    {
      "cell_type": "markdown",
      "metadata": {
        "id": "E86r1aQ8C4uM",
        "colab_type": "text"
      },
      "source": [
        "First we should import libraries"
      ]
    },
    {
      "cell_type": "code",
      "metadata": {
        "id": "9OzlBrxsC5HR",
        "colab_type": "code",
        "colab": {}
      },
      "source": [
        "import pandas as pd\n",
        "import numpy as np\n",
        "from sklearn.cluster import KMeans\n",
        "import requests"
      ],
      "execution_count": 0,
      "outputs": []
    },
    {
      "cell_type": "markdown",
      "metadata": {
        "id": "T8dQ6iqlDGST",
        "colab_type": "text"
      },
      "source": [
        "Then we scrap the website of data"
      ]
    },
    {
      "cell_type": "code",
      "metadata": {
        "id": "JlJxpUnYCfHP",
        "colab_type": "code",
        "colab": {}
      },
      "source": [
        "url=\"https://en.wikipedia.org/wiki/List_of_postal_codes_of_Canada:_M\"\n",
        "header = {\n",
        "  \"User-Agent\": \"Mozilla/5.0 (X11; Linux x86_64) AppleWebKit/537.36 (KHTML, like Gecko) Chrome/50.0.2661.75 Safari/537.36\",\n",
        "  \"X-Requested-With\": \"XMLHttpRequest\"\n",
        "}\n",
        "\n",
        "r = requests.get(url, headers=header)"
      ],
      "execution_count": 0,
      "outputs": []
    },
    {
      "cell_type": "markdown",
      "metadata": {
        "id": "zHj-xPteDROI",
        "colab_type": "text"
      },
      "source": [
        "We turn this data into data frame"
      ]
    },
    {
      "cell_type": "code",
      "metadata": {
        "id": "qz2u7Xy4CfHV",
        "colab_type": "code",
        "colab": {}
      },
      "source": [
        "tables = pd.read_html(r.text)\n",
        "\n",
        "df=pd.DataFrame(tables[0])"
      ],
      "execution_count": 0,
      "outputs": []
    },
    {
      "cell_type": "markdown",
      "metadata": {
        "id": "0MLOuOERDk8h",
        "colab_type": "text"
      },
      "source": [
        "The dataframe will consist of three columns: PostalCode, Borough, and Neighborhood"
      ]
    },
    {
      "cell_type": "code",
      "metadata": {
        "id": "5a3TsvIKDlMs",
        "colab_type": "code",
        "colab": {}
      },
      "source": [
        "df.columns=['Postcode','Borough','Neighbourhood']\n",
        "\n",
        "df.drop([0],axis=0,inplace=True)"
      ],
      "execution_count": 0,
      "outputs": []
    },
    {
      "cell_type": "markdown",
      "metadata": {
        "id": "6UNym40iDy_h",
        "colab_type": "text"
      },
      "source": [
        "Only process the cells that have an assigned borough. Ignore cells with a borough that is Not assigned."
      ]
    },
    {
      "cell_type": "code",
      "metadata": {
        "id": "2NTsrcvZDzKa",
        "colab_type": "code",
        "colab": {}
      },
      "source": [
        "df.drop(df[df['Borough']==\"Not assigned\"].index,axis=0, inplace=True)"
      ],
      "execution_count": 0,
      "outputs": []
    },
    {
      "cell_type": "markdown",
      "metadata": {
        "id": "3YgXL1zvD6vZ",
        "colab_type": "text"
      },
      "source": [
        "More than one neighborhood can exist in one postal code area. \n",
        "For example, in the table on the Wikipedia page, \n",
        "you will notice that M5A is listed twice and has two neighborhoods: \n",
        "Harbourfront and Regent Park. These two rows will be combined into one row with the neighborhoods separated with a comma as shown in row 11 in the above table."
      ]
    },
    {
      "cell_type": "code",
      "metadata": {
        "id": "VnZcxnP7D7A5",
        "colab_type": "code",
        "colab": {}
      },
      "source": [
        "df1=df.groupby(\"Postcode\").agg(lambda x:','.join(set(x)))"
      ],
      "execution_count": 0,
      "outputs": []
    },
    {
      "cell_type": "markdown",
      "metadata": {
        "id": "xBXuWn4mEN6y",
        "colab_type": "text"
      },
      "source": [
        "If a cell has a borough but a Not assigned neighborhood, then the neighborhood will be the same as the borough. So for the 9th cell in the table on the Wikipedia page, the value of the Borough and the Neighborhood columns will be Queen's Park."
      ]
    },
    {
      "cell_type": "code",
      "metadata": {
        "id": "rEgDS84qEOGg",
        "colab_type": "code",
        "colab": {}
      },
      "source": [
        "df1.loc[df1['Neighbourhood']==\"Not assigned\",'Neighbourhood']=df1.loc[df1['Neighbourhood']==\"Not assigned\",'Borough']"
      ],
      "execution_count": 0,
      "outputs": []
    },
    {
      "cell_type": "markdown",
      "metadata": {
        "id": "KO82Vr3pE40_",
        "colab_type": "text"
      },
      "source": [
        "Number of rows of dataframe"
      ]
    },
    {
      "cell_type": "code",
      "metadata": {
        "id": "1esbxMq6E5AA",
        "colab_type": "code",
        "colab": {
          "base_uri": "https://localhost:8080/",
          "height": 34
        },
        "outputId": "fade8811-109a-4edc-d477-28b06a42931d"
      },
      "source": [
        "print(df1.shape)"
      ],
      "execution_count": 11,
      "outputs": [
        {
          "output_type": "stream",
          "text": [
            "(103, 2)\n"
          ],
          "name": "stdout"
        }
      ]
    },
    {
      "cell_type": "code",
      "metadata": {
        "id": "CJo0VyalFMmd",
        "colab_type": "code",
        "colab": {}
      },
      "source": [
        ""
      ],
      "execution_count": 0,
      "outputs": []
    }
  ]
}