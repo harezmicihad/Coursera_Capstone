{
  "nbformat": 4,
  "nbformat_minor": 0,
  "metadata": {
    "colab": {
      "name": "Report.ipynb",
      "provenance": [],
      "collapsed_sections": []
    },
    "kernelspec": {
      "name": "python3",
      "display_name": "Python 3"
    }
  },
  "cells": [
    {
      "cell_type": "markdown",
      "metadata": {
        "id": "-LjGl00LZTwL",
        "colab_type": "text"
      },
      "source": [
        "# ***Stanford vs Harvard University***\n",
        "\n",
        "## Introduction:\n",
        "Suppose that a person applied to study for Stanford University and Harvard University. Then he/she accepted by both of them. Since they are one of the best university, he/she felt confused. On the other hand, art and entertainment venues around the university are vital for him/her.\n",
        "## Data:\n",
        "In order to solve this problem, I google the address of universities and retrieve their geographical coordinates via geolocater library. After that, I use Foursquare API to collect data of art and entertainment venues around both universities.\n",
        "## Methodology:\n",
        "I find the venue category from this link: https://developer.foursquare.com/docs/resources/categories. It’s very useful. So, I convert this data to panda dataframes.\n",
        "## Analysis:\n",
        "By using the folium map library, I pinpoint venues for both universities. Also, I demonstrate categories by grouping them via the bar plot.\n",
        "For further analyzing, I apply one-hot encoding and k-means clusters for the dataframes. Next, I create a folium map for the clusters.\n",
        "As comparing venues for both universities, I merge category columns of dataframes. Afterward, I note similarity and dissimilarity between them along with the grouped bar pilot.\n",
        "## Results:\n",
        "To sum up, Stanford University has more venues and different kinds of venues than Harvard University.\n",
        "Conclusion:\n",
        "Since art and entertainment venues are very important for him/her and Stanford University has more art and entertainment venues, he/she would prefer Stanford University.\n",
        " \n",
        "## Limitations:\n",
        "- I just use the Foursquare API to collect data.\n",
        "- The comparison is just based on art and entertainment venues.\n"
      ]
    }
  ]
}